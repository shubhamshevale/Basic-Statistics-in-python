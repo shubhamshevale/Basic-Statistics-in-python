{
 "cells": [
  {
   "cell_type": "markdown",
   "id": "a243cc36",
   "metadata": {},
   "source": [
    "# Calculate the Z scores of  90% confidence interval,94% confidence interval, 60% confidence interval # "
   ]
  },
  {
   "cell_type": "code",
   "execution_count": 2,
   "id": "df1d0c4d",
   "metadata": {},
   "outputs": [],
   "source": [
    "from scipy import stats\n",
    "from scipy.stats import norm\n"
   ]
  },
  {
   "cell_type": "code",
   "execution_count": 3,
   "id": "c8bc8562",
   "metadata": {},
   "outputs": [
    {
     "data": {
      "text/plain": [
       "1.2815515655446004"
      ]
     },
     "execution_count": 3,
     "metadata": {},
     "output_type": "execute_result"
    }
   ],
   "source": [
    "#90% \n",
    "stats.norm.ppf(0.9)        "
   ]
  },
  {
   "cell_type": "code",
   "execution_count": 6,
   "id": "7a12ddbc",
   "metadata": {},
   "outputs": [
    {
     "data": {
      "text/plain": [
       "1.5547735945968535"
      ]
     },
     "execution_count": 6,
     "metadata": {},
     "output_type": "execute_result"
    }
   ],
   "source": [
    "#94% \n",
    "stats.norm.ppf(0.94) "
   ]
  },
  {
   "cell_type": "code",
   "execution_count": 7,
   "id": "c6bbd398",
   "metadata": {},
   "outputs": [
    {
     "data": {
      "text/plain": [
       "0.2533471031357997"
      ]
     },
     "execution_count": 7,
     "metadata": {},
     "output_type": "execute_result"
    }
   ],
   "source": [
    "#60% \n",
    "stats.norm.ppf(0.6) "
   ]
  },
  {
   "cell_type": "code",
   "execution_count": null,
   "id": "324aea93",
   "metadata": {},
   "outputs": [],
   "source": []
  }
 ],
 "metadata": {
  "kernelspec": {
   "display_name": "Python 3 (ipykernel)",
   "language": "python",
   "name": "python3"
  },
  "language_info": {
   "codemirror_mode": {
    "name": "ipython",
    "version": 3
   },
   "file_extension": ".py",
   "mimetype": "text/x-python",
   "name": "python",
   "nbconvert_exporter": "python",
   "pygments_lexer": "ipython3",
   "version": "3.9.7"
  }
 },
 "nbformat": 4,
 "nbformat_minor": 5
}
